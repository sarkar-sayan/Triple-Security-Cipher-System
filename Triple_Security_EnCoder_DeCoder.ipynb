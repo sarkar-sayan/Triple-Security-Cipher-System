{
  "nbformat": 4,
  "nbformat_minor": 0,
  "metadata": {
    "colab": {
      "provenance": []
    },
    "kernelspec": {
      "name": "python3",
      "display_name": "Python 3"
    },
    "language_info": {
      "name": "python"
    }
  },
  "cells": [
    {
      "cell_type": "markdown",
      "source": [
        "# **Triple Security Message Cryption System**\n",
        "\n",
        "With the help of two different techniques, the data or information\n",
        "goes through a Cryption system which is a series of processes and modifies the data before\n",
        "data transfer and the recipient receives the encrypted data.\n",
        "Then using the same Cryption system, he can decrypt it and\n",
        "obtain the message while ensuring the security of the message.\n",
        "\n",
        "# Cryptography Ciphers used:\n",
        "1. Monoalphabetic Cipher: OneTime Pad\n",
        "2. Substitution Cipher: Caesar Cipher\n",
        "3. Transposition Cipher: Columnar Transposition\n",
        "\n",
        "These act as a Three-tier/Three-level encryption to ensure data security.\n",
        "(Any of the Cryptographic ciphers techniques can be used, like AES, DES, etc as long as the output from one level to the input in the next level is suitable)\n",
        "\n",
        "# Steganography Process used:\n",
        "LSB(Least Significant Bit)  Image-based Encoding & Decoding.\n",
        "\n",
        "This acts as both carrier and ensures extra secure transmission of data."
      ],
      "metadata": {
        "id": "MSjTUhDpUhHh"
      }
    },
    {
      "cell_type": "code",
      "execution_count": null,
      "metadata": {
        "id": "hzqXMiXOt-iV",
        "colab": {
          "base_uri": "https://localhost:8080/"
        },
        "outputId": "26fda6c2-7b74-49d1-d77f-940d142cfa01"
      },
      "outputs": [
        {
          "output_type": "stream",
          "name": "stdout",
          "text": [
            "Collecting onetimepad\n",
            "  Downloading onetimepad-1.4.tar.gz (3.3 kB)\n",
            "  Preparing metadata (setup.py) ... \u001b[?25l\u001b[?25hdone\n",
            "Building wheels for collected packages: onetimepad\n",
            "  Building wheel for onetimepad (setup.py) ... \u001b[?25l\u001b[?25hdone\n",
            "  Created wheel for onetimepad: filename=onetimepad-1.4-py3-none-any.whl size=3879 sha256=f0c0f4a6c0838b2896d92534b35ce052be21d0c6702f1c5f6f8ee3561698deea\n",
            "  Stored in directory: /root/.cache/pip/wheels/6e/95/36/16275e4429d4807116e255a622069f51f16684759cf5e450f8\n",
            "Successfully built onetimepad\n",
            "Installing collected packages: onetimepad\n",
            "Successfully installed onetimepad-1.4\n"
          ]
        }
      ],
      "source": [
        "!pip install onetimepad\n",
        "import onetimepad\n",
        "import string\n",
        "import math\n",
        "from PIL import Image\n",
        "all_letters = string.ascii_letters"
      ]
    },
    {
      "cell_type": "code",
      "source": [
        "def Subencrypt(plain_txt,key):\n",
        "    dict1 = {}\n",
        "    for i in range(len(all_letters)):\n",
        "        dict1[all_letters[i]] = all_letters[(i + key) % len(all_letters)]\n",
        "\n",
        "    cipher_txt = []\n",
        "    # loop to generate ciphertext\n",
        "    for char in plain_txt:\n",
        "        if char in all_letters:\n",
        "            temp = dict1[char]\n",
        "            cipher_txt.append(temp)\n",
        "        else:\n",
        "            temp = char\n",
        "            cipher_txt.append(temp)\n",
        "\n",
        "    cipher_txt = \"\".join(cipher_txt)\n",
        "    return cipher_txt\n",
        "\n",
        "def Subdecrypt(cipher_txt,key):\n",
        "    dict2 = {}\n",
        "    for i in range(len(all_letters)):\n",
        "        dict2[all_letters[i]] = all_letters[(i - key) % (len(all_letters))]\n",
        "\n",
        "    # loop to recover plain text\n",
        "    decrypt_txt = []\n",
        "    for char in cipher_txt:\n",
        "        if char in all_letters:\n",
        "            temp = dict2[char]\n",
        "            decrypt_txt.append(temp)\n",
        "        else:\n",
        "            temp = char\n",
        "            decrypt_txt.append(temp)\n",
        "\n",
        "    decrypt_txt = \"\".join(decrypt_txt)\n",
        "    return decrypt_txt\n"
      ],
      "metadata": {
        "id": "8e5K9lYJ14Ch"
      },
      "execution_count": null,
      "outputs": []
    },
    {
      "cell_type": "code",
      "source": [
        "def transEncrypt(text,key):\n",
        "    cipher = \"\"\n",
        "    # track key indices\n",
        "    k_indx = 0\n",
        "\n",
        "    text_len = float(len(text))\n",
        "    text_lst = list(text)\n",
        "    key_lst = sorted(list(key))\n",
        "    # calculate column of the matrix\n",
        "    col = len(key)\n",
        "\n",
        "    # calculate maximum row of the matrix\n",
        "    row = int(math.ceil(text_len / col))\n",
        "    # add the padding character '_' in empty\n",
        "    # the empty cell of the matix\n",
        "    fill_null = int((row * col) - text_len)\n",
        "    text_lst.extend('_' * fill_null)\n",
        "\n",
        "    # create Matrix and insert message and\n",
        "    # padding characters row-wise\n",
        "    matrix = [text_lst[i: i + col]\n",
        "              for i in range(0, len(text_lst), col)]\n",
        "\n",
        "    # read matrix column-wise using key\n",
        "    for _ in range(col):\n",
        "        curr_idx = key.index(key_lst[k_indx])\n",
        "        cipher += ''.join([row[curr_idx]\n",
        "                           for row in matrix])\n",
        "        k_indx += 1\n",
        "    return cipher\n",
        "\n",
        "def transDecrypt(cipher,key):\n",
        "    txt = \"\"\n",
        "    # track key indices\n",
        "    k_indx = 0\n",
        "\n",
        "    # track text txt indices\n",
        "    txt_indx = 0\n",
        "    txt_len = float(len(cipher))\n",
        "    txt_lst = list(cipher)\n",
        "\n",
        "    # calculate column of the matrix\n",
        "    col = len(key)\n",
        "\n",
        "    # calculate maximum row of the matrix\n",
        "    row = int(math.ceil(txt_len / col))\n",
        "\n",
        "    # convert key into list and sort\n",
        "    # alphabetically so we can access\n",
        "    # each character by its alphabetical position.\n",
        "    key_lst = sorted(list(key))\n",
        "\n",
        "    # create an empty matrix to\n",
        "    # store deciphered message\n",
        "    dec_cipher = []\n",
        "    for _ in range(row):\n",
        "        dec_cipher += [[None] * col]\n",
        "\n",
        "    # Arrange the matrix column wise according\n",
        "    # to permutation order by adding into new matrix\n",
        "    for _ in range(col):\n",
        "        curr_idx = key.index(key_lst[k_indx])\n",
        "\n",
        "        for j in range(row):\n",
        "            dec_cipher[j][curr_idx] = txt_lst[txt_indx]\n",
        "            txt_indx += 1\n",
        "        k_indx += 1\n",
        "    # convert decrypted msg matrix into a string\n",
        "    try:\n",
        "        txt = ''.join(sum(dec_cipher, []))\n",
        "    except TypeError:\n",
        "        raise TypeError(\"This program cannot\",\n",
        "                        \"handle repeating words.\")\n",
        "\n",
        "    null_count = txt.count('_')\n",
        "    if null_count > 0:\n",
        "        return txt[: -null_count]\n",
        "\n",
        "    return txt"
      ],
      "metadata": {
        "id": "rUz1K5uZ186C"
      },
      "execution_count": null,
      "outputs": []
    },
    {
      "cell_type": "markdown",
      "source": [
        "Function Encrpyt & Decrypt specifies the order of encryption & decryption, i.e, if the message has been encrypted by method x,y,z respectively, then decryption must be in the order of z,y,and x respectively.(Quite like the Balanced Paranthesis problem -{ [ ( ) ] }-  )."
      ],
      "metadata": {
        "id": "pBgJpsKKb0Yd"
      }
    },
    {
      "cell_type": "code",
      "source": [
        "def encrpyt(text,k1,k2,k3):\n",
        "    cipher1= Subencrypt(text,k1)\n",
        "    cipher2= transEncrypt(cipher1,k2)\n",
        "    cipher3= onetimepad.encrypt(cipher2,k3)\n",
        "    return cipher3\n",
        "\n",
        "def decrypt(text,k1,k2,k3):\n",
        "    cipher3 = onetimepad.decrypt(text,k3)\n",
        "    cipher2 = transDecrypt(cipher3,k2)\n",
        "    cipher1= Subdecrypt(cipher2,k1)\n",
        "    return cipher1"
      ],
      "metadata": {
        "id": "Ntpv0oMX2BQC"
      },
      "execution_count": null,
      "outputs": []
    },
    {
      "cell_type": "markdown",
      "source": [
        "Method of LSB in Steganography performs the embedding operation of message along with the image file where each pixel has a size of 3 bytes. Each and every bit of the message is taken and this message bit is embedded along with the bytes of the image file such that, it doesn't make any perceivable change in the message embedded file."
      ],
      "metadata": {
        "id": "Lf6lojcGcyoe"
      }
    },
    {
      "cell_type": "code",
      "source": [
        "def genData(data):\n",
        "    # list of binary codes\n",
        "    # of given data\n",
        "    newd = []\n",
        "\n",
        "    for i in data:\n",
        "        newd.append(format(ord(i), '08b'))\n",
        "    return newd"
      ],
      "metadata": {
        "id": "258PnQQn2EY7"
      },
      "execution_count": null,
      "outputs": []
    },
    {
      "cell_type": "code",
      "source": [
        "# Pixels are modified according to the\n",
        "# 8-bit binary data and finally returned\n",
        "def modPix(pix, data):\n",
        "    datalist = genData(data)\n",
        "    lendata = len(datalist)\n",
        "    imdata = iter(pix)\n",
        "\n",
        "    for i in range(lendata):\n",
        "\n",
        "        # Extracting 3 pixels at a time\n",
        "        pix = [value for value in imdata.__next__()[:3] +\n",
        "               imdata.__next__()[:3] +\n",
        "               imdata.__next__()[:3]]\n",
        "\n",
        "        # Pixel value should be made\n",
        "        # odd for 1 and even for 0\n",
        "        for j in range(0, 8):\n",
        "            if (datalist[i][j] == '0' and pix[j] % 2 != 0):\n",
        "                pix[j] -= 1\n",
        "\n",
        "            elif (datalist[i][j] == '1' and pix[j] % 2 == 0):\n",
        "                if (pix[j] != 0):\n",
        "                    pix[j] -= 1\n",
        "                else:\n",
        "                    pix[j] += 1\n",
        "                # pix[j] -= 1\n",
        "\n",
        "        # Eighth pixel of every set tells\n",
        "        # whether to stop ot read further.\n",
        "        # 0 means keep reading; 1 means thec\n",
        "        # message is over.\n",
        "        if (i == lendata - 1):\n",
        "            if (pix[-1] % 2 == 0):\n",
        "                if (pix[-1] != 0):\n",
        "                    pix[-1] -= 1\n",
        "                else:\n",
        "                    pix[-1] += 1\n",
        "\n",
        "        else:\n",
        "            if (pix[-1] % 2 != 0):\n",
        "                pix[-1] -= 1\n",
        "\n",
        "        pix = tuple(pix)\n",
        "        yield pix[0:3]\n",
        "        yield pix[3:6]\n",
        "        yield pix[6:9]"
      ],
      "metadata": {
        "id": "zPay2ORZ2ICh"
      },
      "execution_count": null,
      "outputs": []
    },
    {
      "cell_type": "code",
      "source": [
        "def encode_enc(newimg, data):\n",
        "    w = newimg.size[0]\n",
        "    (x, y) = (0, 0)\n",
        "\n",
        "    for pixel in modPix(newimg.getdata(), data):\n",
        "\n",
        "        # Putting modified pixels in the new image\n",
        "        newimg.putpixel((x, y), pixel)\n",
        "        if (x == w - 1):\n",
        "            x = 0\n",
        "            y += 1\n",
        "        else:\n",
        "            x += 1"
      ],
      "metadata": {
        "id": "9Jc5J6Gu2MLx"
      },
      "execution_count": null,
      "outputs": []
    },
    {
      "cell_type": "code",
      "source": [
        "# Encode data into image\n",
        "def encodeImg(data):\n",
        "    img = input(\"Enter image name(with extension) : \")\n",
        "    image = Image.open(img)\n",
        "\n",
        "    newimg = image.copy()\n",
        "    encode_enc(newimg, data)\n",
        "    new_img_name = input(\"Enter the name of new image(with extension) : \")\n",
        "    newimg.save(new_img_name, str(new_img_name.split(\".\")[1].upper()))"
      ],
      "metadata": {
        "id": "lSyeFdnE2RDC"
      },
      "execution_count": null,
      "outputs": []
    },
    {
      "cell_type": "code",
      "source": [
        "# Decode the data in the image\n",
        "def decodeImg():\n",
        "    img = input(\"Enter image name(with extension) : \")\n",
        "    image = Image.open(img, 'r')\n",
        "\n",
        "    data = ''\n",
        "    imgdata = iter(image.getdata())\n",
        "\n",
        "    while (True):\n",
        "        pixels = [value for value in imgdata.__next__()[:3] +\n",
        "                  imgdata.__next__()[:3] +\n",
        "                  imgdata.__next__()[:3]]\n",
        "\n",
        "        # string of binary data\n",
        "        binstr = ''\n",
        "\n",
        "        for i in pixels[:8]:\n",
        "            if (i % 2 == 0):\n",
        "                binstr += '0'\n",
        "            else:\n",
        "                binstr += '1'\n",
        "\n",
        "        data += chr(int(binstr, 2))\n",
        "        if (pixels[-1] % 2 != 0):\n",
        "            return data"
      ],
      "metadata": {
        "id": "RCRxBox_2Ush"
      },
      "execution_count": null,
      "outputs": []
    },
    {
      "cell_type": "markdown",
      "source": [
        "Driver Code (with User Interaction)"
      ],
      "metadata": {
        "id": "234s16lCdCSi"
      }
    },
    {
      "cell_type": "code",
      "source": [
        "print(\"Welcome To TriPLe SeCuriTy IMAGE EnCODER-DeCODER.\")\n",
        "choice='Y'\n",
        "while (choice=='Y' or choice == 'y'):\n",
        "    a = int(input(\":: Welcome to Steganography :: Choose:\\n\"\n",
        "                  \"1. Encode\\n2. Decode\\n\"))\n",
        "    if (a == 1):\n",
        "        plain_txt = input(\"Enter text to Encrypt :\")\n",
        "        print(\"Enter Three Keys for Encryption as followed:\")\n",
        "        key1 = int(input(\"Enter Key for Substitution cipher(Input Shift Value):\"))\n",
        "        key2 = input(\"Enter Key for Transposition cipher(Input String Value):\")\n",
        "        key3 = input(\"Enter Key for OneTimePad cipher(Input String Value):\")\n",
        "        code = encrpyt(plain_txt, key1, key2, key3)\n",
        "        print(\"The Encoded Message :\" + code)\n",
        "        ch = input(\"Do You Want to DeCode the message to Check? Press Y or N:\")\n",
        "        if (ch == 'Y' or ch == 'y'):\n",
        "            decode = decrypt(code, key1, key2, key3)\n",
        "            print(\"The Decoded Message :\" + decode)\n",
        "        encodeImg(code)\n",
        "        print(\"Code has been Encrypted in the Provided Image.\")\n",
        "        choice=input(\"DO YOU WISH TO CONTINUE?\")\n",
        "    elif (a == 2):\n",
        "        stegoImage = decodeImg()\n",
        "        print(\"Enter Three Keys for Decryption as followed:\")\n",
        "        key1 = int(input(\"Enter Key for Substitution cipher(Input Shift Value):\"))\n",
        "        key2 = input(\"Enter Key for Transposition cipher(Input String Value):\")\n",
        "        key3 = input(\"Enter Key for OneTimePad cipher(Input String Value):\")\n",
        "        decode = decrypt(stegoImage, key1, key2, key3)\n",
        "        print(\"The Decoded Message :\"+decode)\n",
        "        choice = input(\"DO YOU WISH TO CONTINUE?\")\n",
        "    else:\n",
        "        raise Exception(\"Enter correct input\")\n",
        "\n",
        "print(\"THANK YOU FOR USING TriPLe-SeCuriTy EnCODER-DeCODER.\")"
      ],
      "metadata": {
        "id": "R5TXpkO72Y5J",
        "colab": {
          "base_uri": "https://localhost:8080/",
          "height": 651
        },
        "outputId": "c5bf0ae2-f36d-4fb3-964b-ceb77131a89a"
      },
      "execution_count": null,
      "outputs": [
        {
          "name": "stdout",
          "output_type": "stream",
          "text": [
            "Welcome To TriPLe SeCuriTy IMAGE EnCODER-DeCODER.\n",
            ":: Welcome to Steganography :: Choose:\n",
            "1. Encode\n",
            "2. Decode\n",
            "1\n",
            "Enter text to Encrypt :bankaiforme\n",
            "Enter Three Keys for Encryption as followed:\n",
            "Enter Key for Substitution cipher(Input Shift Value):4\n",
            "Enter Key for Transposition cipher(Input String Value):todd\n",
            "Enter Key for OneTimePad cipher(Input String Value):niko\n",
            "The Encoded Message :1c03021d04000e021f0f0e19\n",
            "Do You Want to DeCode the message to Check? Press Y or N:Y\n"
          ]
        },
        {
          "output_type": "error",
          "ename": "TypeError",
          "evalue": "ignored",
          "traceback": [
            "\u001b[0;31m---------------------------------------------------------------------------\u001b[0m",
            "\u001b[0;31mTypeError\u001b[0m                                 Traceback (most recent call last)",
            "\u001b[0;32m<ipython-input-4-2a112051d946>\u001b[0m in \u001b[0;36mtransDecrypt\u001b[0;34m(cipher, key)\u001b[0m\n\u001b[1;32m     69\u001b[0m     \u001b[0;32mtry\u001b[0m\u001b[0;34m:\u001b[0m\u001b[0;34m\u001b[0m\u001b[0;34m\u001b[0m\u001b[0m\n\u001b[0;32m---> 70\u001b[0;31m         \u001b[0mtxt\u001b[0m \u001b[0;34m=\u001b[0m \u001b[0;34m''\u001b[0m\u001b[0;34m.\u001b[0m\u001b[0mjoin\u001b[0m\u001b[0;34m(\u001b[0m\u001b[0msum\u001b[0m\u001b[0;34m(\u001b[0m\u001b[0mdec_cipher\u001b[0m\u001b[0;34m,\u001b[0m \u001b[0;34m[\u001b[0m\u001b[0;34m]\u001b[0m\u001b[0;34m)\u001b[0m\u001b[0;34m)\u001b[0m\u001b[0;34m\u001b[0m\u001b[0;34m\u001b[0m\u001b[0m\n\u001b[0m\u001b[1;32m     71\u001b[0m     \u001b[0;32mexcept\u001b[0m \u001b[0mTypeError\u001b[0m\u001b[0;34m:\u001b[0m\u001b[0;34m\u001b[0m\u001b[0;34m\u001b[0m\u001b[0m\n",
            "\u001b[0;31mTypeError\u001b[0m: sequence item 3: expected str instance, NoneType found",
            "\nDuring handling of the above exception, another exception occurred:\n",
            "\u001b[0;31mTypeError\u001b[0m                                 Traceback (most recent call last)",
            "\u001b[0;32m<ipython-input-11-3c98072b0883>\u001b[0m in \u001b[0;36m<cell line: 3>\u001b[0;34m()\u001b[0m\n\u001b[1;32m     14\u001b[0m         \u001b[0mch\u001b[0m \u001b[0;34m=\u001b[0m \u001b[0minput\u001b[0m\u001b[0;34m(\u001b[0m\u001b[0;34m\"Do You Want to DeCode the message to Check? Press Y or N:\"\u001b[0m\u001b[0;34m)\u001b[0m\u001b[0;34m\u001b[0m\u001b[0;34m\u001b[0m\u001b[0m\n\u001b[1;32m     15\u001b[0m         \u001b[0;32mif\u001b[0m \u001b[0;34m(\u001b[0m\u001b[0mch\u001b[0m \u001b[0;34m==\u001b[0m \u001b[0;34m'Y'\u001b[0m \u001b[0;32mor\u001b[0m \u001b[0mch\u001b[0m \u001b[0;34m==\u001b[0m \u001b[0;34m'y'\u001b[0m\u001b[0;34m)\u001b[0m\u001b[0;34m:\u001b[0m\u001b[0;34m\u001b[0m\u001b[0;34m\u001b[0m\u001b[0m\n\u001b[0;32m---> 16\u001b[0;31m             \u001b[0mdecode\u001b[0m \u001b[0;34m=\u001b[0m \u001b[0mdecrypt\u001b[0m\u001b[0;34m(\u001b[0m\u001b[0mcode\u001b[0m\u001b[0;34m,\u001b[0m \u001b[0mkey1\u001b[0m\u001b[0;34m,\u001b[0m \u001b[0mkey2\u001b[0m\u001b[0;34m,\u001b[0m \u001b[0mkey3\u001b[0m\u001b[0;34m)\u001b[0m\u001b[0;34m\u001b[0m\u001b[0;34m\u001b[0m\u001b[0m\n\u001b[0m\u001b[1;32m     17\u001b[0m             \u001b[0mprint\u001b[0m\u001b[0;34m(\u001b[0m\u001b[0;34m\"The Decoded Message :\"\u001b[0m \u001b[0;34m+\u001b[0m \u001b[0mdecode\u001b[0m\u001b[0;34m)\u001b[0m\u001b[0;34m\u001b[0m\u001b[0;34m\u001b[0m\u001b[0m\n\u001b[1;32m     18\u001b[0m         \u001b[0mencodeImg\u001b[0m\u001b[0;34m(\u001b[0m\u001b[0mcode\u001b[0m\u001b[0;34m)\u001b[0m\u001b[0;34m\u001b[0m\u001b[0;34m\u001b[0m\u001b[0m\n",
            "\u001b[0;32m<ipython-input-5-f3df018f21d7>\u001b[0m in \u001b[0;36mdecrypt\u001b[0;34m(text, k1, k2, k3)\u001b[0m\n\u001b[1;32m      7\u001b[0m \u001b[0;32mdef\u001b[0m \u001b[0mdecrypt\u001b[0m\u001b[0;34m(\u001b[0m\u001b[0mtext\u001b[0m\u001b[0;34m,\u001b[0m\u001b[0mk1\u001b[0m\u001b[0;34m,\u001b[0m\u001b[0mk2\u001b[0m\u001b[0;34m,\u001b[0m\u001b[0mk3\u001b[0m\u001b[0;34m)\u001b[0m\u001b[0;34m:\u001b[0m\u001b[0;34m\u001b[0m\u001b[0;34m\u001b[0m\u001b[0m\n\u001b[1;32m      8\u001b[0m     \u001b[0mcipher3\u001b[0m \u001b[0;34m=\u001b[0m \u001b[0monetimepad\u001b[0m\u001b[0;34m.\u001b[0m\u001b[0mdecrypt\u001b[0m\u001b[0;34m(\u001b[0m\u001b[0mtext\u001b[0m\u001b[0;34m,\u001b[0m\u001b[0mk3\u001b[0m\u001b[0;34m)\u001b[0m\u001b[0;34m\u001b[0m\u001b[0;34m\u001b[0m\u001b[0m\n\u001b[0;32m----> 9\u001b[0;31m     \u001b[0mcipher2\u001b[0m \u001b[0;34m=\u001b[0m \u001b[0mtransDecrypt\u001b[0m\u001b[0;34m(\u001b[0m\u001b[0mcipher3\u001b[0m\u001b[0;34m,\u001b[0m\u001b[0mk2\u001b[0m\u001b[0;34m)\u001b[0m\u001b[0;34m\u001b[0m\u001b[0;34m\u001b[0m\u001b[0m\n\u001b[0m\u001b[1;32m     10\u001b[0m     \u001b[0mcipher1\u001b[0m\u001b[0;34m=\u001b[0m \u001b[0mSubdecrypt\u001b[0m\u001b[0;34m(\u001b[0m\u001b[0mcipher2\u001b[0m\u001b[0;34m,\u001b[0m\u001b[0mk1\u001b[0m\u001b[0;34m)\u001b[0m\u001b[0;34m\u001b[0m\u001b[0;34m\u001b[0m\u001b[0m\n\u001b[1;32m     11\u001b[0m     \u001b[0;32mreturn\u001b[0m \u001b[0mcipher1\u001b[0m\u001b[0;34m\u001b[0m\u001b[0;34m\u001b[0m\u001b[0m\n",
            "\u001b[0;32m<ipython-input-4-2a112051d946>\u001b[0m in \u001b[0;36mtransDecrypt\u001b[0;34m(cipher, key)\u001b[0m\n\u001b[1;32m     70\u001b[0m         \u001b[0mtxt\u001b[0m \u001b[0;34m=\u001b[0m \u001b[0;34m''\u001b[0m\u001b[0;34m.\u001b[0m\u001b[0mjoin\u001b[0m\u001b[0;34m(\u001b[0m\u001b[0msum\u001b[0m\u001b[0;34m(\u001b[0m\u001b[0mdec_cipher\u001b[0m\u001b[0;34m,\u001b[0m \u001b[0;34m[\u001b[0m\u001b[0;34m]\u001b[0m\u001b[0;34m)\u001b[0m\u001b[0;34m)\u001b[0m\u001b[0;34m\u001b[0m\u001b[0;34m\u001b[0m\u001b[0m\n\u001b[1;32m     71\u001b[0m     \u001b[0;32mexcept\u001b[0m \u001b[0mTypeError\u001b[0m\u001b[0;34m:\u001b[0m\u001b[0;34m\u001b[0m\u001b[0;34m\u001b[0m\u001b[0m\n\u001b[0;32m---> 72\u001b[0;31m         raise TypeError(\"This program cannot\",\n\u001b[0m\u001b[1;32m     73\u001b[0m                         \"handle repeating words.\")\n\u001b[1;32m     74\u001b[0m \u001b[0;34m\u001b[0m\u001b[0m\n",
            "\u001b[0;31mTypeError\u001b[0m: ('This program cannot', 'handle repeating words.')"
          ]
        }
      ]
    }
  ]
}